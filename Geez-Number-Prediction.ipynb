{
 "cells": [
  {
   "cell_type": "markdown",
   "metadata": {},
   "source": [
    "# Geez Number Prediction"
   ]
  },
  {
   "cell_type": "markdown",
   "metadata": {},
   "source": [
    "In this project will built and training Geez number prediction model. We will use a dataset consisting of Geez/ Amharic digits (1-9). We will  develop a deep, fully-connected (\"feed-forward\") neural network model that can classify these images. In the process we will discuss:<br>\n",
    "\n",
    "* Data collection and preparation\n",
    "* Implementing Deep feed forward Neural networks\n",
    "  - Libraries\n",
    "  - Reading Data with data generators\n",
    "      - Data augmentation\n",
    "* Transfer Learning"
   ]
  },
  {
   "cell_type": "code",
   "execution_count": null,
   "metadata": {},
   "outputs": [],
   "source": []
  },
  {
   "cell_type": "code",
   "execution_count": 1,
   "metadata": {},
   "outputs": [],
   "source": [
    "import keras\n",
    "from keras_preprocessing.image import ImageDataGenerator,array_to_img, img_to_array, load_img\n",
    "from keras.models import Sequential\n",
    "from keras.layers import Conv2D, MaxPooling2D, Flatten, Dropout, Dense, BatchNormalization, Activation\n",
    "from keras.optimizers  import RMSprop, SGD, Adam\n",
    "from keras.losses import sparse_categorical_crossentropy\n",
    "import matplotlib.pyplot as plt\n",
    "import numpy as np\n",
    "import os\n",
    "from keras import models\n",
    "import cv2"
   ]
  },
  {
   "cell_type": "markdown",
   "metadata": {},
   "source": [
    "## Data Generators\n",
    "\n",
    "**Motivation**\n",
    "\n",
    "Data preparation is required when working with neural network and deep learning models. Increasingly data augmentation is also required on more complex object recognition tasks.\n",
    "\n",
    "Like the rest of Keras, the image augmentation API is simple and powerful.\n",
    "\n",
    "Keras provides the *ImageDataGenerator* class that defines the configuration for image data preparation and augmentation. This includes capabilities such as:\n",
    "* Sample-wise standardization.\n",
    "* Feature-wise standardization.\n",
    "* ZCA whitening.\n",
    "* Random rotation, shifts, shear and flips.\n",
    "* Dimension reordering.\n",
    "* Save augmented images to disk."
   ]
  },
  {
   "cell_type": "code",
   "execution_count": 2,
   "metadata": {},
   "outputs": [
    {
     "name": "stdout",
     "output_type": "stream",
     "text": [
      "Found 95 images belonging to 9 classes.\n",
      "Found 18 images belonging to 9 classes.\n"
     ]
    }
   ],
   "source": [
    "## Using the ImageDataGenerator to: Provide a validation split of 20% of the data rescale the images, perform augmentation \n",
    "datagen = ImageDataGenerator(validation_split=0.2,\n",
    "                             rescale=1./255 ,\n",
    "                             shear_range=0.2,\n",
    "                             width_shift_range=0.2,\n",
    "                             height_shift_range=0.2,\n",
    "                             zoom_range=0.2,\n",
    "                             fill_mode='nearest',\n",
    "                             horizontal_flip=True)\n",
    "\n",
    "### Specify directory containing amharic dataset\n",
    "TRAIN_DIR = 'amharic'\n",
    "\n",
    "\n",
    "## Use train generator to create train data from entire dataset\n",
    "train_generator = datagen.flow_from_directory(\n",
    "    TRAIN_DIR, \n",
    "    subset='training',\n",
    "        target_size=(200, 200),\n",
    "        batch_size=32,\n",
    "        class_mode='categorical'\n",
    ")\n",
    "\n",
    "# use validation_generator to create dataset from 20% of the data\n",
    "validation_generator = datagen.flow_from_directory(\n",
    "    TRAIN_DIR,\n",
    "    subset='validation',\n",
    "        target_size=(200, 200),\n",
    "        batch_size=32,\n",
    "        class_mode='categorical'\n",
    ")"
   ]
  },
  {
   "cell_type": "markdown",
   "metadata": {},
   "source": [
    "# Geez /Amharic Number system\n",
    "\n",
    "Ethiopic numerals have a familiar quality about them that seems to catch the eye and pique the imagination of the first-time viewer. In particular, the bars above and below the letter-like symbols appear reminiscent of their Roman counterparts. The symbols in between the bars, however, are clearly not of Roman origin. The shapes appear Ethiopic but only half seem to correspond to Ethiopic syllables and in an incomprehensible order.\n",
    "\n",
    "![alt text](https://www.geez.org/Numerals/images/NumberTable2-cropped.gif)"
   ]
  },
  {
   "cell_type": "markdown",
   "metadata": {},
   "source": [
    "# Data Description\n",
    "\n",
    "Dataset consists of images of Amharic numbers mostly extracted from the internet. The Idea here is to train a machine learning model, specifically a deep convolutional neural network to learn to recognize the amharic numbers.\n",
    "\n",
    "## Data preparation\n",
    "\n",
    "The images were rescaled to 200x200 px with the help of the data generators. \n",
    "\n",
    "### Note:\n",
    "\n",
    "In this tutorial, the dataset was not standardized as in the MNIST dataset, an additional task is to use the lessons learnt from the computer vision class to standardize the dataset to have consistent backgrounds like that from the MNIST dataset.\n",
    "\n",
    "![alt text](https://conx.readthedocs.io/en/latest/_images/MNIST_6_0.png)\n",
    "\n"
   ]
  },
  {
   "cell_type": "code",
   "execution_count": null,
   "metadata": {},
   "outputs": [],
   "source": []
  }
 ],
 "metadata": {
  "kernelspec": {
   "display_name": "Python 3",
   "language": "python",
   "name": "python3"
  },
  "language_info": {
   "codemirror_mode": {
    "name": "ipython",
    "version": 3
   },
   "file_extension": ".py",
   "mimetype": "text/x-python",
   "name": "python",
   "nbconvert_exporter": "python",
   "pygments_lexer": "ipython3",
   "version": "3.7.6"
  }
 },
 "nbformat": 4,
 "nbformat_minor": 4
}
