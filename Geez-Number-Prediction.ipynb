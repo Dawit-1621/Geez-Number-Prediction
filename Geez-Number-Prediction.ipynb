{
 "cells": [
  {
   "cell_type": "markdown",
   "metadata": {},
   "source": [
    "# Geez Number Prediction"
   ]
  },
  {
   "cell_type": "markdown",
   "metadata": {},
   "source": [
    "In this project will built and training Geez number prediction model. We will use a dataset consisting of Geez/ Amharic digits (1-9). We will  develop a deep, fully-connected (\"feed-forward\") neural network model that can classify these images. In the process we will discuss:<br>\n",
    "\n",
    "* Data collection and preparation\n",
    "* Implementing Deep feed forward Neural networks\n",
    "  - Libraries\n",
    "  - Reading Data with data generators\n",
    "      - Data augmentation\n",
    "* Transfer Learning"
   ]
  },
  {
   "cell_type": "code",
   "execution_count": null,
   "metadata": {},
   "outputs": [],
   "source": []
  },
  {
   "cell_type": "code",
   "execution_count": null,
   "metadata": {},
   "outputs": [],
   "source": [
    "import keras\n",
    "from keras_preprocessing.image import ImageDataGenerator,array_to_img, img_to_array, load_img\n",
    "from keras.models import Sequential\n",
    "from keras.layers import Conv2D, MaxPooling2D, Flatten, Dropout, Dense, BatchNormalization, Activation\n",
    "from keras.optimizers  import RMSprop, SGD, Adam\n",
    "from keras.losses import sparse_categorical_crossentropy\n",
    "import matplotlib.pyplot as plt\n",
    "import numpy as np\n",
    "import os\n",
    "from keras import models\n",
    "import cv2"
   ]
  },
  {
   "cell_type": "markdown",
   "metadata": {},
   "source": [
    "## Data Generators\n",
    "\n",
    "**Motivation**\n",
    "\n",
    "Data preparation is required when working with neural network and deep learning models. Increasingly data augmentation is also required on more complex object recognition tasks.\n",
    "\n",
    "Like the rest of Keras, the image augmentation API is simple and powerful.\n",
    "\n",
    "Keras provides the *ImageDataGenerator* class that defines the configuration for image data preparation and augmentation. This includes capabilities such as:\n",
    "* Sample-wise standardization.\n",
    "* Feature-wise standardization.\n",
    "* ZCA whitening.\n",
    "* Random rotation, shifts, shear and flips.\n",
    "* Dimension reordering.\n",
    "* Save augmented images to disk."
   ]
  },
  {
   "cell_type": "code",
   "execution_count": null,
   "metadata": {},
   "outputs": [],
   "source": []
  }
 ],
 "metadata": {
  "kernelspec": {
   "display_name": "Python 3",
   "language": "python",
   "name": "python3"
  },
  "language_info": {
   "codemirror_mode": {
    "name": "ipython",
    "version": 3
   },
   "file_extension": ".py",
   "mimetype": "text/x-python",
   "name": "python",
   "nbconvert_exporter": "python",
   "pygments_lexer": "ipython3",
   "version": "3.7.6"
  }
 },
 "nbformat": 4,
 "nbformat_minor": 4
}
